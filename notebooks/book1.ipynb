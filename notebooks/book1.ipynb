{
 "cells": [
  {
   "cell_type": "markdown",
   "metadata": {},
   "source": [
    "## Package Installation"
   ]
  },
  {
   "cell_type": "code",
   "execution_count": null,
   "metadata": {},
   "outputs": [],
   "source": [
    "pip install fastf1"
   ]
  },
  {
   "cell_type": "code",
   "execution_count": null,
   "metadata": {},
   "outputs": [],
   "source": []
  },
  {
   "cell_type": "code",
   "execution_count": 12,
   "metadata": {},
   "outputs": [],
   "source": [
    "from fastf1.ergast import Ergast\n",
    "import pandas as pd\n",
    "import numpy as np\n",
    "import seaborn as sns\n",
    "import matplotlib.pyplot as plt"
   ]
  },
  {
   "cell_type": "code",
   "execution_count": null,
   "metadata": {},
   "outputs": [],
   "source": [
    "#Get Circuits Example\n",
    "client = Ergast(result_type='pandas')\n",
    "circuits = client.get_circuits(season=2023)\n",
    "circuits"
   ]
  },
  {
   "cell_type": "code",
   "execution_count": null,
   "metadata": {},
   "outputs": [],
   "source": [
    "#Get all Drivers:\n",
    "drivers = client.get_driver_info(season=2023)\n",
    "drivers"
   ]
  },
  {
   "cell_type": "code",
   "execution_count": 104,
   "metadata": {},
   "outputs": [],
   "source": [
    "#Get Lap Time Data:\n",
    "all_lap_time_df = pd.DataFrame()\n",
    "for eachDriver in drivers[\"driverId\"]:\n",
    "    total_results = False\n",
    "    lap_times = client.get_lap_times(season=2023,round=16,driver=eachDriver,result_type='pandas')   \n",
    "    while lap_times.is_complete == False:    \n",
    "        if len(lap_times.content)>0:\n",
    "            all_lap_time_df = all_lap_time_df.append(lap_times.content[0],ignore_index=True)\n",
    "            try:\n",
    "                lap_times=lap_times.get_next_result_page()\n",
    "            except Exception as e:\n",
    "                if str(e) == 'No more data after this response.':\n",
    "                    break"
   ]
  },
  {
   "cell_type": "code",
   "execution_count": 111,
   "metadata": {},
   "outputs": [
    {
     "data": {
      "text/html": [
       "<div>\n",
       "<style scoped>\n",
       "    .dataframe tbody tr th:only-of-type {\n",
       "        vertical-align: middle;\n",
       "    }\n",
       "\n",
       "    .dataframe tbody tr th {\n",
       "        vertical-align: top;\n",
       "    }\n",
       "\n",
       "    .dataframe thead th {\n",
       "        text-align: right;\n",
       "    }\n",
       "</style>\n",
       "<table border=\"1\" class=\"dataframe\">\n",
       "  <thead>\n",
       "    <tr style=\"text-align: right;\">\n",
       "      <th></th>\n",
       "      <th>number</th>\n",
       "      <th>driverId</th>\n",
       "      <th>position</th>\n",
       "      <th>time</th>\n",
       "    </tr>\n",
       "  </thead>\n",
       "  <tbody>\n",
       "    <tr>\n",
       "      <th>0</th>\n",
       "      <td>1</td>\n",
       "      <td>alonso</td>\n",
       "      <td>6</td>\n",
       "      <td>0 days 00:02:09.194000</td>\n",
       "    </tr>\n",
       "    <tr>\n",
       "      <th>1</th>\n",
       "      <td>2</td>\n",
       "      <td>alonso</td>\n",
       "      <td>6</td>\n",
       "      <td>0 days 00:02:42.981000</td>\n",
       "    </tr>\n",
       "    <tr>\n",
       "      <th>2</th>\n",
       "      <td>3</td>\n",
       "      <td>alonso</td>\n",
       "      <td>6</td>\n",
       "      <td>0 days 00:02:46.946000</td>\n",
       "    </tr>\n",
       "    <tr>\n",
       "      <th>3</th>\n",
       "      <td>4</td>\n",
       "      <td>alonso</td>\n",
       "      <td>6</td>\n",
       "      <td>0 days 00:02:48.972000</td>\n",
       "    </tr>\n",
       "    <tr>\n",
       "      <th>4</th>\n",
       "      <td>5</td>\n",
       "      <td>alonso</td>\n",
       "      <td>6</td>\n",
       "      <td>0 days 00:01:39.508000</td>\n",
       "    </tr>\n",
       "  </tbody>\n",
       "</table>\n",
       "</div>"
      ],
      "text/plain": [
       "   number driverId  position                   time\n",
       "0       1   alonso         6 0 days 00:02:09.194000\n",
       "1       2   alonso         6 0 days 00:02:42.981000\n",
       "2       3   alonso         6 0 days 00:02:46.946000\n",
       "3       4   alonso         6 0 days 00:02:48.972000\n",
       "4       5   alonso         6 0 days 00:01:39.508000"
      ]
     },
     "execution_count": 111,
     "metadata": {},
     "output_type": "execute_result"
    }
   ],
   "source": []
  },
  {
   "cell_type": "code",
   "execution_count": null,
   "metadata": {},
   "outputs": [],
   "source": []
  }
 ],
 "metadata": {
  "kernelspec": {
   "display_name": "Python 3",
   "language": "python",
   "name": "python3"
  },
  "language_info": {
   "codemirror_mode": {
    "name": "ipython",
    "version": 3
   },
   "file_extension": ".py",
   "mimetype": "text/x-python",
   "name": "python",
   "nbconvert_exporter": "python",
   "pygments_lexer": "ipython3",
   "version": "3.9.7"
  },
  "orig_nbformat": 4
 },
 "nbformat": 4,
 "nbformat_minor": 2
}
